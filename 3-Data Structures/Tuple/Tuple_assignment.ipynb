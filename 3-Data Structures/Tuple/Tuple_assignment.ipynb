{
 "cells": [
  {
   "cell_type": "markdown",
   "id": "6cade624",
   "metadata": {},
   "source": [
    "# Module 3: Data Structures Assignments\n",
    "## Lesson 3.2: Tuples"
   ]
  },
  {
   "cell_type": "markdown",
   "id": "1f67fb16",
   "metadata": {},
   "source": [
    "### Assignment 1: Creating and Accessing Tuples\n",
    "\n",
    "Create a tuple with the first 10 positive integers. Print the tuple."
   ]
  },
  {
   "cell_type": "code",
   "execution_count": 16,
   "id": "6e6e5f60",
   "metadata": {},
   "outputs": [
    {
     "name": "stdout",
     "output_type": "stream",
     "text": [
      "(1, 2, 3, 4, 5, 6, 7, 8, 9, 10)\n"
     ]
    }
   ],
   "source": [
    "tpl = tuple(range(1,11))\n",
    "print(tpl)"
   ]
  },
  {
   "cell_type": "markdown",
   "id": "c8a474db",
   "metadata": {},
   "source": [
    "### Assignment 2: Accessing Tuple Elements\n",
    "\n",
    "Print the first, middle, and last elements of the tuple created in Assignment 1."
   ]
  },
  {
   "cell_type": "code",
   "execution_count": 17,
   "id": "d41cf811",
   "metadata": {},
   "outputs": [
    {
     "name": "stdout",
     "output_type": "stream",
     "text": [
      "First element: 1\n",
      "Middle element: 6\n",
      "Last element: 10\n"
     ]
    }
   ],
   "source": [
    "print(f\"First element: {tpl[0]}\")\n",
    "print(f\"Middle element: {tpl[len(tpl) // 2]}\")\n",
    "print(f\"Last element: {tpl[-1]}\")"
   ]
  },
  {
   "cell_type": "markdown",
   "id": "b530c979",
   "metadata": {},
   "source": [
    "### Assignment 3: Tuple Slicing\n",
    "\n",
    "Print the first three elements, the last three elements, and the elements from index 2 to 5 of the tuple created in Assignment 1."
   ]
  },
  {
   "cell_type": "code",
   "execution_count": 18,
   "id": "27e45c4d",
   "metadata": {},
   "outputs": [
    {
     "name": "stdout",
     "output_type": "stream",
     "text": [
      "First three elements: (1, 2, 3)\n",
      "Last three elements: (8, 9, 10)\n",
      "Elements from index 2 to 5: (3, 4, 5, 6)\n"
     ]
    }
   ],
   "source": [
    "print(f\"First three elements: {tpl[:3]}\")\n",
    "print(f\"Last three elements: {tpl[-3:]}\")\n",
    "print(f\"Elements from index 2 to 5: {tpl[2:6]}\")"
   ]
  },
  {
   "cell_type": "markdown",
   "id": "3545801d",
   "metadata": {},
   "source": [
    "### Assignment 4: Nested Tuples\n",
    "\n",
    "Create a nested tuple representing a 3x3 matrix and print the matrix. Access and print the element at the second row and third column."
   ]
  },
  {
   "cell_type": "code",
   "execution_count": 19,
   "id": "553fa573",
   "metadata": {},
   "outputs": [
    {
     "name": "stdout",
     "output_type": "stream",
     "text": [
      "Matrix:\n",
      "(1, 2, 3)\n",
      "(4, 5, 6)\n",
      "(7, 8, 9)\n",
      "Element at second row and third column: 6\n"
     ]
    }
   ],
   "source": [
    "nested_tuple = (\n",
    "    (1,2,3),\n",
    "    (4,5,6),\n",
    "    (7,8,9)\n",
    ")\n",
    "print(\"Matrix:\")\n",
    "for row in nested_tuple:\n",
    "    print(row)\n",
    "print(f\"Element at second row and third column: {nested_tuple[1][2]}\")"
   ]
  },
  {
   "cell_type": "markdown",
   "id": "27078de6",
   "metadata": {},
   "source": [
    "### Assignment 5: Tuple Concatenation\n",
    "\n",
    "Concatenate two tuples: (1, 2, 3) and (4, 5, 6). Print the resulting tuple."
   ]
  },
  {
   "cell_type": "code",
   "execution_count": 20,
   "id": "0f2c56f5",
   "metadata": {},
   "outputs": [
    {
     "name": "stdout",
     "output_type": "stream",
     "text": [
      "(1, 2, 3, 3, 4, 5)\n"
     ]
    }
   ],
   "source": [
    "tpl1 = (1,2,3)\n",
    "tpl2 = (3,4,5)\n",
    "concatenated = tpl1 + tpl2\n",
    "print(concatenated)"
   ]
  },
  {
   "cell_type": "markdown",
   "id": "804aeece",
   "metadata": {},
   "source": [
    "### Assignment 6: Tuple Methods\n",
    "\n",
    "Create a tuple with duplicate elements and count the occurrences of an element. Find the index of the first occurrence of an element in the tuple."
   ]
  },
  {
   "cell_type": "code",
   "execution_count": 21,
   "id": "b46477ac",
   "metadata": {},
   "outputs": [
    {
     "name": "stdout",
     "output_type": "stream",
     "text": [
      "Ocuurance of element of 4: 3\n",
      "Index of first occurance of element 2: 2\n"
     ]
    }
   ],
   "source": [
    "tpl1 = (1,1,2,2,2,3,3,4,4,4)\n",
    "print(f\"Ocuurance of element of 4: {tpl1.count(4)}\")\n",
    "print(f\"Index of first occurance of element 2: {tpl1.index(2)}\")"
   ]
  },
  {
   "cell_type": "markdown",
   "id": "7b7ec4c6",
   "metadata": {},
   "source": [
    "### Assignment 7: Unpacking Tuples\n",
    "\n",
    "Create a tuple with 5 elements and unpack it into 5 variables. Print the variables."
   ]
  },
  {
   "cell_type": "code",
   "execution_count": 22,
   "id": "3eccafcc",
   "metadata": {},
   "outputs": [
    {
     "name": "stdout",
     "output_type": "stream",
     "text": [
      "1 2 3 4 5\n"
     ]
    }
   ],
   "source": [
    "tpl5 = (1,2,3,4,5)\n",
    "a, b, c, d, e = tpl5\n",
    "print(a,b,c,d,e) "
   ]
  },
  {
   "cell_type": "markdown",
   "id": "488bbb78",
   "metadata": {},
   "source": [
    "### Assignment 8: Tuple Conversion\n",
    "\n",
    "Convert a list of the first 5 positive integers to a tuple. Print the tuple."
   ]
  },
  {
   "cell_type": "code",
   "execution_count": 23,
   "id": "882ac806",
   "metadata": {},
   "outputs": [
    {
     "name": "stdout",
     "output_type": "stream",
     "text": [
      "(1, 2, 3, 4, 5)\n"
     ]
    }
   ],
   "source": [
    "lst = [1,2,3,4,5]\n",
    "tpl = tuple(lst)\n",
    "print(tpl)"
   ]
  },
  {
   "cell_type": "markdown",
   "id": "c7de3b8a",
   "metadata": {},
   "source": [
    "### Assignment 9: Tuple of Tuples\n",
    "\n",
    "Create a tuple containing 3 tuples, each with 3 elements. Print the tuple of tuples."
   ]
  },
  {
   "cell_type": "code",
   "execution_count": 24,
   "id": "d0239bd4",
   "metadata": {},
   "outputs": [
    {
     "name": "stdout",
     "output_type": "stream",
     "text": [
      "((1, 2, 3), (4, 5, 6), (7, 8, 9))\n"
     ]
    }
   ],
   "source": [
    "tpl_of_tpls = (\n",
    "    (1, 2, 3),\n",
    "    (4, 5, 6),\n",
    "    (7, 8, 9)\n",
    ")\n",
    "print(tpl_of_tpls)"
   ]
  },
  {
   "cell_type": "markdown",
   "id": "dc603103",
   "metadata": {},
   "source": [
    "### Assignment 10: Tuple and List\n",
    "\n",
    "Create a tuple with the first 5 positive integers. Convert it to a list, append the number 6, and convert it back to a tuple. Print the resulting tuple."
   ]
  },
  {
   "cell_type": "code",
   "execution_count": 25,
   "id": "6471753b",
   "metadata": {},
   "outputs": [
    {
     "name": "stdout",
     "output_type": "stream",
     "text": [
      "(1, 2, 3, 4, 5, 6)\n"
     ]
    }
   ],
   "source": [
    "tpl = (1,2,3,4,5)\n",
    "new_list = list(tpl)\n",
    "new_list.append(6)\n",
    "tpl = tuple(new_list)\n",
    "print(tpl)"
   ]
  },
  {
   "cell_type": "markdown",
   "id": "bceb2b08",
   "metadata": {},
   "source": [
    "### Assignment 11: Tuple and String\n",
    "\n",
    "Create a tuple with the characters of a string. Join the tuple elements into a single string. Print the string."
   ]
  },
  {
   "cell_type": "code",
   "execution_count": 26,
   "id": "d94b2c77",
   "metadata": {},
   "outputs": [
    {
     "name": "stdout",
     "output_type": "stream",
     "text": [
      "('m', 'e', 'o', 'w')\n"
     ]
    }
   ],
   "source": [
    "string = \"meow\"\n",
    "tpl = tuple(string)\n",
    "joined_string = ''.join(tpl)\n",
    "print(tpl)"
   ]
  },
  {
   "cell_type": "markdown",
   "id": "9f3ba44a",
   "metadata": {},
   "source": [
    "### Assignment 12: Tuple and Dictionary\n",
    "\n",
    "Create a dictionary with tuple keys and integer values. Print the dictionary."
   ]
  },
  {
   "cell_type": "code",
   "execution_count": 27,
   "id": "d1511296",
   "metadata": {},
   "outputs": [
    {
     "name": "stdout",
     "output_type": "stream",
     "text": [
      "{(1, 2): 3, (4, 5): 6, (7, 8): 9}\n"
     ]
    }
   ],
   "source": [
    "tpl_dict = {\n",
    "    (1, 2): 3,\n",
    "    (4, 5): 6,\n",
    "    (7, 8): 9\n",
    "}\n",
    "print(tpl_dict)"
   ]
  },
  {
   "cell_type": "markdown",
   "id": "475044d3",
   "metadata": {},
   "source": [
    "### Assignment 13: Nested Tuple Iteration\n",
    "\n",
    "Create a nested tuple and iterate over the elements, printing each element."
   ]
  },
  {
   "cell_type": "code",
   "execution_count": 28,
   "id": "92479d0b",
   "metadata": {},
   "outputs": [
    {
     "name": "stdout",
     "output_type": "stream",
     "text": [
      "((1, 2, 3), (4, 5, 6), (7, 8, 9))\n",
      "((1, 2, 3), (4, 5, 6), (7, 8, 9))\n",
      "((1, 2, 3), (4, 5, 6), (7, 8, 9))\n",
      "((1, 2, 3), (4, 5, 6), (7, 8, 9))\n",
      "((1, 2, 3), (4, 5, 6), (7, 8, 9))\n",
      "((1, 2, 3), (4, 5, 6), (7, 8, 9))\n",
      "((1, 2, 3), (4, 5, 6), (7, 8, 9))\n",
      "((1, 2, 3), (4, 5, 6), (7, 8, 9))\n",
      "((1, 2, 3), (4, 5, 6), (7, 8, 9))\n"
     ]
    }
   ],
   "source": [
    "nested_tpl = (\n",
    "    (1,2,3),\n",
    "    (4,5,6),\n",
    "    (7,8,9)\n",
    ")\n",
    "for tpl in nested_tpl:\n",
    "    for elem in tpl:\n",
    "        print(nested_tpl)"
   ]
  },
  {
   "cell_type": "markdown",
   "id": "e1500c31",
   "metadata": {},
   "source": [
    "### Assignment 14: Tuple and Set\n",
    "\n",
    "Create a tuple with duplicate elements. Convert it to a set to remove duplicates and print the resulting set."
   ]
  },
  {
   "cell_type": "code",
   "execution_count": 29,
   "id": "90fa9814",
   "metadata": {},
   "outputs": [
    {
     "name": "stdout",
     "output_type": "stream",
     "text": [
      "{1, 2, 3, 4, 5, 6}\n"
     ]
    }
   ],
   "source": [
    "dup_tpl = (1, 2, 3, 4, 4, 5, 5, 5, 6, 6)\n",
    "unique_set = set(dup_tpl)\n",
    "print(unique_set)"
   ]
  }
 ],
 "metadata": {
  "kernelspec": {
   "display_name": "Python 3",
   "language": "python",
   "name": "python3"
  },
  "language_info": {
   "codemirror_mode": {
    "name": "ipython",
    "version": 3
   },
   "file_extension": ".py",
   "mimetype": "text/x-python",
   "name": "python",
   "nbconvert_exporter": "python",
   "pygments_lexer": "ipython3",
   "version": "3.12.0"
  }
 },
 "nbformat": 4,
 "nbformat_minor": 5
}
